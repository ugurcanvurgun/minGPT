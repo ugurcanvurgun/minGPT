{
 "cells": [
  {
   "cell_type": "markdown",
   "metadata": {},
   "source": [
    "Shows how one can generate text given a prompt and some hyperparameters, using either minGPT or huggingface/transformers"
   ]
  },
  {
   "cell_type": "code",
   "execution_count": 1,
   "metadata": {},
   "outputs": [
    {
     "name": "stderr",
     "output_type": "stream",
     "text": [
      "/Users/ugurcanvurgun/opt/anaconda3/envs/BMIN5210/lib/python3.9/site-packages/tqdm/auto.py:22: TqdmWarning: IProgress not found. Please update jupyter and ipywidgets. See https://ipywidgets.readthedocs.io/en/stable/user_install.html\n",
      "  from .autonotebook import tqdm as notebook_tqdm\n"
     ]
    }
   ],
   "source": [
    "import torch\n",
    "from transformers import GPT2Tokenizer, GPT2LMHeadModel\n",
    "from mingpt.model import GPT\n",
    "from mingpt.utils import set_seed\n",
    "from mingpt.bpe import BPETokenizer\n",
    "set_seed(3407)"
   ]
  },
  {
   "cell_type": "code",
   "execution_count": 13,
   "metadata": {},
   "outputs": [],
   "source": [
    "use_mingpt = True # use minGPT or huggingface/transformers model?\n",
    "model_type = 'gpt2-xl'\n",
    "device = torch.device('cuda' if torch.cuda.is_available() else 'cpu')"
   ]
  },
  {
   "cell_type": "code",
   "execution_count": 16,
   "metadata": {},
   "outputs": [
    {
     "name": "stdout",
     "output_type": "stream",
     "text": [
      "number of parameters: 1557.61M\n"
     ]
    }
   ],
   "source": [
    "if use_mingpt:\n",
    "    model = GPT.from_pretrained(model_type)\n",
    "else:\n",
    "    model = GPT2LMHeadModel.from_pretrained(model_type)\n",
    "    model.config.pad_token_id = model.config.eos_token_id # suppress a warning\n",
    "\n",
    "# ship model to device and set to eval mode\n",
    "model.to(device)\n",
    "model.eval();"
   ]
  },
  {
   "cell_type": "code",
   "execution_count": 18,
   "metadata": {},
   "outputs": [],
   "source": [
    "\n",
    "def generate(prompt='', num_samples=10, steps=20, do_sample=True):\n",
    "        \n",
    "    # tokenize the input prompt into integer input sequence\n",
    "    if use_mingpt:\n",
    "        tokenizer = BPETokenizer()\n",
    "        if prompt == '':\n",
    "            # to create unconditional samples...\n",
    "            # manually create a tensor with only the special <|endoftext|> token\n",
    "            # similar to what openai's code does here https://github.com/openai/gpt-2/blob/master/src/generate_unconditional_samples.py\n",
    "            x = torch.tensor([[tokenizer.encoder.encoder['<|endoftext|>']]], dtype=torch.long)\n",
    "        else:\n",
    "            x = tokenizer(prompt).to(device)\n",
    "    else:\n",
    "        tokenizer = GPT2Tokenizer.from_pretrained(model_type)\n",
    "        if prompt == '': \n",
    "            # to create unconditional samples...\n",
    "            # huggingface/transformers tokenizer special cases these strings\n",
    "            prompt = '<|endoftext|>'\n",
    "        encoded_input = tokenizer(prompt, return_tensors='pt').to(device)\n",
    "        x = encoded_input['input_ids']\n",
    "    \n",
    "    # we'll process all desired num_samples in a batch, so expand out the batch dim\n",
    "    x = x.expand(num_samples, -1)\n",
    "\n",
    "    # forward the model `steps` times to get samples, in a batch\n",
    "    y = model.generate(x, max_new_tokens=steps, do_sample=do_sample, top_k=40)\n",
    "    \n",
    "    for i in range(num_samples):\n",
    "        out = tokenizer.decode(y[i].cpu().squeeze())\n",
    "        print('-'*80)\n",
    "        print(out)\n",
    "        "
   ]
  },
  {
   "cell_type": "code",
   "execution_count": null,
   "metadata": {},
   "outputs": [
    {
     "name": "stdout",
     "output_type": "stream",
     "text": [
      "--------------------------------------------------------------------------------\n",
      "Ugurcan Vurgun, the son of Sulu, was to be made a Kajang, a soldier of fortune. He\n",
      "--------------------------------------------------------------------------------\n",
      "Ugurcan Vurgun, the new king of Urgul, was a great battle commander, a true warlord. He was\n",
      "--------------------------------------------------------------------------------\n",
      "Ugurcan Vurgun, the third day of the Battle of the Boren Mountains.[39]\n",
      "\n",
      "Hoth Edit\n",
      "\n",
      "\n",
      "--------------------------------------------------------------------------------\n",
      "Ugurcan Vurgun, the son of the emperor, and was to be the next emperor. However, he did not want to\n",
      "--------------------------------------------------------------------------------\n",
      "Ugurcan Vurgun, the leader of the Black Fang. It is rumored that the Black Fang are the descendants of two Black Fang\n",
      "--------------------------------------------------------------------------------\n",
      "Ugurcan Vurgun, the Vulture-Lord; Yagmur; Cholain; and the King of the South and\n",
      "--------------------------------------------------------------------------------\n",
      "Ugurcan Vurgun, the most powerful of Y'Shaarj's brood, has been imprisoned within the temple's depths\n",
      "--------------------------------------------------------------------------------\n",
      "Ugurcan Vurgun, the former President's eldest son, was arrested this month over a plot to overthrow Mr Erdogan in a series\n",
      "--------------------------------------------------------------------------------\n",
      "Ugurcan Vurgun, the Great-father of the Ugh'Lgul and the Great-father of Uzzog\n",
      "--------------------------------------------------------------------------------\n",
      "Ugurcan Vurgun, the head of the Ministry of Enlightenment, a department under the Ministry of Foreign Affairs of the Republic of Turkey\n"
     ]
    }
   ],
   "source": [
    "generate(prompt='Ugurcan Vurgun, the', num_samples=10, steps=20)"
   ]
  }
 ],
 "metadata": {
  "kernelspec": {
   "display_name": "BMIN5210",
   "language": "python",
   "name": "python3"
  },
  "language_info": {
   "codemirror_mode": {
    "name": "ipython",
    "version": 3
   },
   "file_extension": ".py",
   "mimetype": "text/x-python",
   "name": "python",
   "nbconvert_exporter": "python",
   "pygments_lexer": "ipython3",
   "version": "3.9.16"
  },
  "orig_nbformat": 4,
  "vscode": {
   "interpreter": {
    "hash": "24c2fead819bf1dd4a360f42adbf8436a2c8e502f89d119f2691493fd8e930e6"
   }
  }
 },
 "nbformat": 4,
 "nbformat_minor": 2
}
